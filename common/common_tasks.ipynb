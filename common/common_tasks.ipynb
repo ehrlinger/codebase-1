{
 "cells": [
  {
   "cell_type": "markdown",
   "metadata": {},
   "source": [
    "# Common Tasks\n",
    "- version check\n",
    "- Directory operation\n",
    "- File I/O\n",
    "- Blob storage operation\n"
   ]
  },
  {
   "cell_type": "markdown",
   "metadata": {},
   "source": [
    "## Version check"
   ]
  },
  {
   "cell_type": "code",
   "execution_count": 2,
   "metadata": {},
   "outputs": [],
   "source": [
    "import os\n",
    "import sys\n"
   ]
  },
  {
   "cell_type": "code",
   "execution_count": 6,
   "metadata": {},
   "outputs": [
    {
     "name": "stdout",
     "output_type": "stream",
     "text": [
      "OS:  linux\n",
      "Python:  3.6.5 |Anaconda, Inc.| (default, Apr 29 2018, 16:14:56) \n",
      "[GCC 7.2.0]\n",
      "/home/mylogin/notebooks/BatchAI/aml\n"
     ]
    }
   ],
   "source": [
    "print(\"OS: \", sys.platform)\n",
    "print(\"Python: \", sys.version)\n",
    "\n",
    "#get the current working directory\n",
    "print(os.getcwd()) \n",
    "\n",
    "#list files in current working directory\n",
    "# os.listdir(os.curdir)"
   ]
  },
  {
   "cell_type": "markdown",
   "metadata": {},
   "source": [
    "## Directory operation"
   ]
  },
  {
   "cell_type": "code",
   "execution_count": null,
   "metadata": {},
   "outputs": [],
   "source": [
    "# Create Folder Structure\n",
    "local_path = os.getcwd()\n",
    "o16n_path = os.path.join(local_path,'o16n') # folder\n",
    "model_path = os.path.join(o16n_path,'kerastfmodel') # folder\n",
    "model_file_name = os.path.join(model_path,'kerastfmodel.h5') # file\n",
    "score_file_name = os.path.join(model_path, 'score.py') # file\n",
    "\n",
    "\n",
    "if not os.path.exists(local_path):\n",
    "    os.makedirs(local_path)\n",
    "if not os.path.exists(o16n_path):\n",
    "    os.makedirs(o16n_path)\n",
    "if not os.path.exists(model_path):\n",
    "    os.makedirs(model_path)"
   ]
  },
  {
   "cell_type": "markdown",
   "metadata": {},
   "source": [
    "## File I/O"
   ]
  },
  {
   "cell_type": "code",
   "execution_count": 9,
   "metadata": {},
   "outputs": [],
   "source": [
    "conda_dependencies_file = 'scoreenv.yml'"
   ]
  },
  {
   "cell_type": "code",
   "execution_count": 10,
   "metadata": {},
   "outputs": [
    {
     "name": "stdout",
     "output_type": "stream",
     "text": [
      "Overwriting scoreenv.yml\n"
     ]
    }
   ],
   "source": [
    "%%writefile $conda_dependencies_file\n",
    "name: scoreenv\n",
    "channels:\n",
    "  - defaults\n",
    "dependencies:\n",
    "  - psutil\n",
    "  - pip:\n",
    "    - --index-url https://pypi.python.org/simple\n",
    "    - --extra-index-url https://azuremlsdktestpypi.azureedge.net/sdk-release/Candidate/604C89A437BA41BD942B4F46D9A3591D\n",
    "    - azureml-sdk\n",
    "    - azureml-contrib-daskonbatch\n",
    "    - dask\n",
    "    - distributed\n",
    "    - bokeh\n",
    "    - joblib\n",
    "    - scikit-learn\n",
    "    - numpy\n",
    "    - cntk\n"
   ]
  },
  {
   "cell_type": "code",
   "execution_count": 8,
   "metadata": {},
   "outputs": [
    {
     "name": "stdout",
     "output_type": "stream",
     "text": [
      "Writing /home/mylogin/notebooks/BatchAI/aml/o16n/kerastfmodel/score.py\n"
     ]
    }
   ],
   "source": [
    "%%writefile $score_file_name\n",
    "\n",
    "import numpy as np\n",
    "import os\n",
    "import sys\n",
    "import keras as K\n",
    "from io import BytesIO\n",
    "from PIL import Image, ImageOps\n",
    "import base64\n",
    "import json\n",
    "\n",
    "def init():\n",
    "    \n",
    "    global model  \n",
    "\n",
    "    print(\"Executing init() method...\")\n",
    "    print(\"Python version: \" + str(sys.version) + \", keras version: \" + K.__version__)\n",
    "    # Load the model \n",
    "    model = K.models.load_model('kerastfmodel.h5')\n",
    "    return\n",
    "\n",
    "\n",
    "def run(inputString):\n",
    "    \n",
    "    responses = []\n",
    "    base64Dict = json.loads(inputString)\n",
    "\n",
    "    for k, v in base64Dict.items():\n",
    "        img_file_name, base64Img = k, v\n",
    "    decoded_img = base64.b64decode(base64Img)\n",
    "    img_buffer = BytesIO(decoded_img)\n",
    "    imageData = Image.open(img_buffer).convert(\"RGB\")\n",
    "\n",
    "    # Evaluate the model using the input data\n",
    "    img = ImageOps.fit(imageData, (32, 32), Image.ANTIALIAS)\n",
    "    img_conv = np.array(img) # shape: (32, 32, 3)\n",
    "    # Scale pixel intensity\n",
    "    x_test = img_conv / 255.0\n",
    "    # Reshape\n",
    "    x_test = np.moveaxis(x_test, -1, 0)\n",
    "    x_test = np.expand_dims(x_test, 0)  # shape (1, 3, 32, 32)\n",
    "\n",
    "    y_pred = model.predict(x_test)\n",
    "    y_pred = np.argmax(y_pred, axis=-1)\n",
    "    # print(y_pred)\n",
    "    LABELS = [\"airplane\", \"automobile\", \"bird\", \"cat\", \"deer\", \"fog\", \"frog\", \"horse\", \"ship\", \"truck\"]\n",
    "    resp = {img_file_name: str(LABELS[y_pred[0]])}\n",
    "\n",
    "    responses.append(resp)\n",
    "    return json.dumps(responses)\n",
    "    \n",
    "  \n",
    "if __name__ == \"__main__\":\n",
    "    init()\n",
    "    # input data\n",
    "    img_path = 'automobile8.png'\n",
    "    encoded = None\n",
    "    with open(img_path, 'rb') as file:\n",
    "      encoded = base64.b64encode(file.read())\n",
    "    img_dict = {img_path: encoded.decode('utf-8')}\n",
    "    body = json.dumps(img_dict)\n",
    "    resp = run(body)\n",
    "    print(resp)"
   ]
  },
  {
   "cell_type": "markdown",
   "metadata": {},
   "source": [
    "## Blob Storage Operation"
   ]
  },
  {
   "cell_type": "code",
   "execution_count": 16,
   "metadata": {},
   "outputs": [
    {
     "name": "stdout",
     "output_type": "stream",
     "text": [
      "{'_data_reference': $AZUREML_DATAREFERENCE_scoring1,\n",
      " '_num_workers': 32,\n",
      " 'account_key': 'SG4muzp3+SZKk2kW1PKZ4xVkOiy3CJhBY1erouYnUTeJNKiucJo6kq9RuJtXNNu5AFIL07BZJZ3whvFQPRsqKw==',\n",
      " 'account_name': 'mywsprodstoragegguewxwq',\n",
      " 'blob_service': <azure.storage.blob.blockblobservice.BlockBlobService object at 0x0000019ADCAEB4A8>,\n",
      " 'container_name': 'scoringcontainer',\n",
      " 'datastore_type': 'AzureBlob',\n",
      " 'name': 'scoring1',\n",
      " 'sas_token': None,\n",
      " 'workspace': <azureml.core.workspace.Workspace object at 0x0000019AD28AA320>}\n"
     ]
    }
   ],
   "source": [
    "from azureml.core.datastore import Datastore\n",
    "\n",
    "datastore_name = \"scoring1\"\n",
    "\n",
    "blob_data_store = Datastore.register_azure_blob_container(\n",
    "    workspace=ws,\n",
    "    datastore_name=datastore_name,\n",
    "    account_name=storage_account_name,\n",
    "    container_name=azure_blob_container_name,\n",
    "    account_key=storage_account_key,\n",
    "    overwrite=True)\n",
    "\n",
    "pprint(blob_data_store.__dict__)   "
   ]
  },
  {
   "cell_type": "code",
   "execution_count": 20,
   "metadata": {},
   "outputs": [
    {
     "name": "stdout",
     "output_type": "stream",
     "text": [
      "Scoring results in blob storage:\n",
      "Test-28x28_cntk_text_0.txt_output - Thu Jun 14 06:03:53 2018 (UTC)\n",
      "Test-28x28_cntk_text_1.txt_output - Thu Jun 14 06:03:53 2018 (UTC)\n",
      "Test-28x28_cntk_text_2.txt_output - Thu Jun 14 06:03:57 2018 (UTC)\n",
      "Test-28x28_cntk_text_3.txt_output - Thu Jun 14 06:03:56 2018 (UTC)\n"
     ]
    }
   ],
   "source": [
    "# List the blobs in the container\n",
    "print(\"Scoring results in blob storage:\")\n",
    "generator = blob_service.list_blobs(azure_blob_container_name)\n",
    "for blob in generator:\n",
    "    if blob.name.startswith(scores_dir + \"/\"):\n",
    "        print(blob.name.replace(scores_dir + \"/\", \"\") + \" - \" + blob.properties.last_modified.ctime() + \" (UTC)\")"
   ]
  },
  {
   "cell_type": "code",
   "execution_count": null,
   "metadata": {},
   "outputs": [],
   "source": []
  }
 ],
 "metadata": {
  "kernelspec": {
   "display_name": "Python [conda env:bugbashenv]",
   "language": "python",
   "name": "conda-env-bugbashenv-py"
  },
  "language_info": {
   "codemirror_mode": {
    "name": "ipython",
    "version": 3
   },
   "file_extension": ".py",
   "mimetype": "text/x-python",
   "name": "python",
   "nbconvert_exporter": "python",
   "pygments_lexer": "ipython3",
   "version": "3.6.5"
  }
 },
 "nbformat": 4,
 "nbformat_minor": 2
}
